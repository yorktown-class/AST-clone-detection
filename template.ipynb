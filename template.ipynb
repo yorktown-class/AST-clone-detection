{
 "cells": [
  {
   "cell_type": "code",
   "execution_count": null,
   "metadata": {},
   "outputs": [],
   "source": [
    "%pip install -r requirements.txt\n",
    "%cd dataset/OJClone\n",
    "%pip install gdown\n",
    "!gdown https://drive.google.com/uc?id=0B2i-vWnOu7MxVlJwQXN6eVNONUU\n",
    "!tar -xvf programs.tar.gz\n",
    "!python preprocess.py\n",
    "%cd ../..\n",
    "\n",
    "%mkdir build\n",
    "%cd build\n",
    "%git clone https://github.com/tree-sitter/tree-sitter-c\n",
    "%cd ..\n",
    "!python build_tree_sitter.py\n"
   ]
  },
  {
   "cell_type": "code",
   "execution_count": null,
   "metadata": {},
   "outputs": [],
   "source": [
    "%load_ext autoreload\n",
    "%autoreload 2\n",
    "\n",
    "import logging\n",
    "\n",
    "logger = logging.getLogger(\"train\")\n",
    "logger.setLevel(logging.INFO)\n",
    "\n",
    "if not logger.hasHandlers():\n",
    "\tstderr = logging.StreamHandler()\n",
    "\tstderr.setLevel(logging.INFO)\n",
    "\tlogger.addHandler(stderr)\n",
    "\n",
    "logger.info(\"hello world\")\n"
   ]
  },
  {
   "cell_type": "code",
   "execution_count": null,
   "metadata": {},
   "outputs": [],
   "source": [
    "from detecter import config\n",
    "\n",
    "config.NUM_CORE = 4\n",
    "config.WORD2VEC_BATCH_SIZE = 128\n"
   ]
  },
  {
   "cell_type": "code",
   "execution_count": null,
   "metadata": {},
   "outputs": [],
   "source": [
    "from torch.utils import data\n",
    "\n",
    "from detecter.dataset import OJClone\n",
    "from detecter import train\n",
    "\n",
    "batch_size = 4\n",
    "ds = OJClone.DataSet(\"dataset/OJClone/train.jsonl\", max_node_count=512)\n",
    "loader = data.DataLoader(\n",
    "\tds,\n",
    "\tbatch_sampler=train.BatchSampler(ds, batch_size=batch_size),\n",
    "\tcollate_fn=train.collate_fn,\n",
    "\tnum_workers=2,\n",
    ")\n",
    "ds = OJClone.DataSet(\"dataset/OJClone/train.jsonl\", max_node_count=512)\n",
    "v_loader = data.DataLoader(\n",
    "\tds,\n",
    "\tbatch_sampler=train.BatchSampler(ds, batch_size=batch_size),\n",
    "\tcollate_fn=train.collate_fn,\n",
    "\tnum_workers=2,\n",
    ")"
   ]
  },
  {
   "cell_type": "code",
   "execution_count": null,
   "metadata": {},
   "outputs": [],
   "source": [
    "import torch\n",
    "\n",
    "from detecter.train import Trainer\n",
    "from detecter.model import AstAttention, Classifier\n",
    "\n",
    "model = AstAttention(384, 768, num_layers=6, num_heads=8).cuda()\n",
    "classifier = Classifier(768, 2).cuda()\n",
    "trainer = Trainer(model=model, classifier=classifier).cuda()\n",
    "\n",
    "optimizer = torch.optim.AdamW([\n",
    "\t{\"params\": model.parameters(), \"lr\": 3e-5, \"weight_decay\": 0.1}, \n",
    "\t{\"params\": classifier.parameters(), \"lr\": 3e-4}\n",
    "])"
   ]
  },
  {
   "cell_type": "code",
   "execution_count": null,
   "metadata": {},
   "outputs": [],
   "source": [
    "try:\n",
    "\twith open(\"log/model.pt\", \"rb\") as f:\n",
    "\t\tsave = torch.load(f)\n",
    "\tmodel.load_state_dict(save[\"model_state_dict\"], strict=False)\n",
    "\tclassifier.load_state_dict(save[\"classifier_state_dict\"], strict=False)\n",
    "\tmin_loss = save[\"loss\"]\n",
    "except IOError:\n",
    "\tlogger.info(\"no model\")\n",
    "min_loss = 1e8"
   ]
  },
  {
   "cell_type": "code",
   "execution_count": null,
   "metadata": {},
   "outputs": [],
   "source": [
    "try:\n",
    "\twith open(\"log/trainer.ckpt\", \"rb\") as f:\n",
    "\t\tsave = torch.load(f)\n",
    "\ttrainer.load_state_dict(save[\"trainer_state_dict\"], strict=False)\n",
    "\toptimizer.load_state_dict(save[\"optimizer_state_dict\"])\n",
    "\tepoch = save[\"epoch\"]\n",
    "except IOError:\n",
    "\tepoch = 1\n",
    "\tlogger.info(\"no ckpt\")\n"
   ]
  },
  {
   "cell_type": "code",
   "execution_count": null,
   "metadata": {},
   "outputs": [],
   "source": [
    "import torch\n",
    "from tqdm import tqdm\n",
    "\n",
    "while True:\n",
    "\tlogger.info(\"epoch {}\".format(epoch))\n",
    "\ttrainer.train()\n",
    "\tfor batch in tqdm(loader):\n",
    "\t\toptimizer.zero_grad()\n",
    "\t\tloss = trainer(batch)\n",
    "\t\tloss.backward()\n",
    "\t\toptimizer.step()\n",
    "\ttrainer.evaluate()\n",
    "\n",
    "\ttrainer.eval()\n",
    "\tfor batch in tqdm(v_loader):\n",
    "\t\twith torch.no_grad():\n",
    "\t\t\ttrainer(batch)\n",
    "\tloss = trainer.evaluate()\n",
    "\n",
    "\t# with open(\"log/trainer.ckpt\", \"wb\") as f:\n",
    "\t#     torch.save(check_point(trainer, optimizer, epoch))\n",
    "\t\n",
    "\tif loss < min_loss:\n",
    "\t\tmin_loss = loss\n",
    "\t\t# with open(\"log/model.pt\", \"wb\") as f:\n",
    "\t\t#     torch.save(model_pt(model, loss), f)\n",
    "\n",
    "\tepoch += 1"
   ]
  }
 ],
 "metadata": {
  "kernelspec": {
   "display_name": "Python 3",
   "language": "python",
   "name": "python3"
  },
  "language_info": {
   "codemirror_mode": {
    "name": "ipython",
    "version": 3
   },
   "file_extension": ".py",
   "mimetype": "text/x-python",
   "name": "python",
   "nbconvert_exporter": "python",
   "pygments_lexer": "ipython3",
   "version": "3.8.10"
  },
  "orig_nbformat": 4
 },
 "nbformat": 4,
 "nbformat_minor": 2
}
