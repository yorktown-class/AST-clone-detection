{
 "cells": [
  {
   "cell_type": "code",
   "execution_count": null,
   "metadata": {},
   "outputs": [],
   "source": [
    "%load_ext autoreload\n",
    "%autoreload 2\n",
    "\n",
    "import logging\n",
    "\n",
    "logger = logging.getLogger(\"train\")\n",
    "logger.setLevel(logging.INFO)\n",
    "\n",
    "if not logger.hasHandlers():\n",
    "\tstderr = logging.StreamHandler()\n",
    "\tstderr.setLevel(logging.INFO)\n",
    "\tlogger.addHandler(stderr)\n",
    "\n",
    "logger.info(\"hello world\")\n"
   ]
  },
  {
   "cell_type": "code",
   "execution_count": null,
   "metadata": {},
   "outputs": [],
   "source": [
    "from detecter import config\n",
    "\n",
    "config.NUM_CORE = 4\n",
    "config.WORD2VEC_BATCH_SIZE = 128\n"
   ]
  },
  {
   "cell_type": "code",
   "execution_count": null,
   "metadata": {},
   "outputs": [],
   "source": [
    "from torch.utils import data\n",
    "\n",
    "from detecter.dataset import OJClone\n",
    "\n",
    "batch_size = 1\n",
    "\n",
    "ds = OJClone.BiDataSet(OJClone.DataSet(\"dataset/OJClone/train.jsonl\"))\n",
    "loader = data.DataLoader(ds, batch_size=batch_size, collate_fn=OJClone.collate_fn, shuffle=True)\n",
    "\n",
    "ds = OJClone.BiDataSet(OJClone.DataSet(\"dataset/OJClone/valid.jsonl\"))\n",
    "v_loader = data.DataLoader(ds, batch_size=batch_size, collate_fn=OJClone.collate_fn)\n"
   ]
  },
  {
   "cell_type": "code",
   "execution_count": null,
   "metadata": {},
   "outputs": [],
   "source": [
    "import torch\n",
    "\n",
    "from detecter.train import Trainer\n",
    "from detecter.model import AstAttention, Classifier\n",
    "\n",
    "model = AstAttention(384, 768, num_layers=6, num_heads=8).cuda()\n",
    "classifier = Classifier(768, 2).cuda()\n",
    "trainer = Trainer(model=model, classifier=classifier).cuda()\n",
    "\n",
    "optimizer = torch.optim.AdamW([\n",
    "\t{\"params\": model.parameters(), \"lr\": 3e-5, \"weight_decay\": 0.1}, \n",
    "\t{\"params\": classifier.parameters(), \"lr\": 3e-4}\n",
    "])"
   ]
  },
  {
   "cell_type": "code",
   "execution_count": null,
   "metadata": {},
   "outputs": [],
   "source": [
    "try:\n",
    "\twith open(\"log/model.pt\", \"rb\") as f:\n",
    "\t\tsave = torch.load(f)\n",
    "\tmodel.load_state_dict(save[\"model_state_dict\"], strict=False)\n",
    "\tclassifier.load_state_dict(save[\"classifier_state_dict\"], strict=False)\n",
    "\tmin_loss = save[\"loss\"]\n",
    "except IOError:\n",
    "\tlogger.info(\"no model\")\n",
    "min_loss = 1e8"
   ]
  },
  {
   "cell_type": "code",
   "execution_count": null,
   "metadata": {},
   "outputs": [],
   "source": [
    "try:\n",
    "\twith open(\"log/trainer.ckpt\", \"rb\") as f:\n",
    "\t\tsave = torch.load(f)\n",
    "\ttrainer.load_state_dict(save[\"trainer_state_dict\"], strict=False)\n",
    "\toptimizer.load_state_dict(save[\"optimizer_state_dict\"])\n",
    "\tepoch = save[\"epoch\"]\n",
    "except IOError:\n",
    "\tepoch = 1\n",
    "\tlogger.info(\"no ckpt\")\n"
   ]
  },
  {
   "cell_type": "code",
   "execution_count": null,
   "metadata": {},
   "outputs": [],
   "source": [
    "import torch\n",
    "from tqdm import tqdm\n",
    "\n",
    "while True:\n",
    "\tlogger.info(\"epoch {}\".format(epoch))\n",
    "\ttrainer.train()\n",
    "\tfor batch in tqdm(loader):\n",
    "\t\twith torch.no_grad():\n",
    "\t\t\t# optimizer.zero_grad()\n",
    "\t\t\tloss = trainer(batch)\n",
    "\t\t\t# loss.backward()\n",
    "\t\t\toptimizer.step()\n",
    "\t\tbreak\n",
    "\ttrainer.evaluate()\n",
    "\n",
    "\ttrainer.eval()\n",
    "\tfor batch in tqdm(v_loader):\n",
    "\t\twith torch.no_grad():\n",
    "\t\t\ttrainer(batch)\n",
    "\t\tbreak\n",
    "\tloss = trainer.evaluate()\n",
    "\n",
    "\t# with open(\"log/trainer.ckpt\", \"wb\") as f:\n",
    "\t#     torch.save(check_point(trainer, optimizer, epoch))\n",
    "\t\n",
    "\tif loss < min_loss:\n",
    "\t\tmin_loss = loss\n",
    "\t\t# with open(\"log/model.pt\", \"wb\") as f:\n",
    "\t\t#     torch.save(model_pt(model, loss), f)\n",
    "\n",
    "\tepoch += 1"
   ]
  }
 ],
 "metadata": {
  "kernelspec": {
   "display_name": "Python 3",
   "language": "python",
   "name": "python3"
  },
  "language_info": {
   "codemirror_mode": {
    "name": "ipython",
    "version": 3
   },
   "file_extension": ".py",
   "mimetype": "text/x-python",
   "name": "python",
   "nbconvert_exporter": "python",
   "pygments_lexer": "ipython3",
   "version": "3.8.10"
  },
  "orig_nbformat": 4
 },
 "nbformat": 4,
 "nbformat_minor": 2
}
